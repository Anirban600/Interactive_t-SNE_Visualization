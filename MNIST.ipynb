{
 "cells": [
  {
   "cell_type": "code",
   "execution_count": 1,
   "id": "c3973359-277d-4729-87e1-860284be1aad",
   "metadata": {},
   "outputs": [],
   "source": [
    "import os\n",
    "import numpy as np\n",
    "from sklearn.datasets import load_digits"
   ]
  },
  {
   "cell_type": "code",
   "execution_count": 2,
   "id": "2aa554e5-0c94-4833-81bd-6f7117b72227",
   "metadata": {},
   "outputs": [
    {
     "data": {
      "text/plain": [
       "dict_keys(['data', 'target', 'frame', 'feature_names', 'target_names', 'images', 'DESCR'])"
      ]
     },
     "execution_count": 2,
     "metadata": {},
     "output_type": "execute_result"
    }
   ],
   "source": [
    "mnist = load_digits()\n",
    "mnist.keys()"
   ]
  },
  {
   "cell_type": "code",
   "execution_count": 3,
   "id": "de43afa7-bee5-4a7f-a4d2-0c1da44fffcc",
   "metadata": {},
   "outputs": [
    {
     "data": {
      "text/plain": [
       "(1797, 64)"
      ]
     },
     "execution_count": 3,
     "metadata": {},
     "output_type": "execute_result"
    }
   ],
   "source": [
    "mnist.data.shape"
   ]
  },
  {
   "cell_type": "code",
   "execution_count": 4,
   "id": "1ff4e67f-90f3-462e-bc33-faf3cea2788f",
   "metadata": {},
   "outputs": [],
   "source": [
    "from sklearn.manifold import TSNE"
   ]
  },
  {
   "cell_type": "code",
   "execution_count": 5,
   "id": "26aa7ca5-9855-45c9-967f-803f3322e517",
   "metadata": {},
   "outputs": [
    {
     "name": "stderr",
     "output_type": "stream",
     "text": [
      "C:\\Users\\Anirban_Haldar\\AppData\\Local\\Programs\\Python\\Python39\\lib\\site-packages\\sklearn\\manifold\\_t_sne.py:991: FutureWarning: The PCA initialization in TSNE will change to have the standard deviation of PC1 equal to 1e-4 in 1.2. This will ensure better convergence.\n",
      "  warnings.warn(\n"
     ]
    },
    {
     "data": {
      "text/plain": [
       "(1797, 3)"
      ]
     },
     "execution_count": 5,
     "metadata": {},
     "output_type": "execute_result"
    }
   ],
   "source": [
    "tsne = TSNE(n_components=3, init='pca', learning_rate='auto')\n",
    "tsne.fit(mnist.data)\n",
    "tsne.embedding_.shape"
   ]
  },
  {
   "cell_type": "code",
   "execution_count": 6,
   "id": "3fc1a0a3-5e13-4cf5-8c81-17ec3a36d15f",
   "metadata": {},
   "outputs": [
    {
     "data": {
      "text/plain": [
       "array([[ -0.30651882,  21.944332  ,  -6.297458  ],\n",
       "       [  9.776675  , -22.68747   ,   5.8799634 ],\n",
       "       [ -1.4619721 ,  -3.932512  ,  -7.2229285 ],\n",
       "       ...,\n",
       "       [ -0.9918978 ,  -5.246236  ,  -1.1387115 ],\n",
       "       [-17.20277   ,  17.572273  ,  -3.673666  ],\n",
       "       [ -4.395225  ,  -3.4112117 ,   1.3749988 ]], dtype=float32)"
      ]
     },
     "execution_count": 6,
     "metadata": {},
     "output_type": "execute_result"
    }
   ],
   "source": [
    "tsne.embedding_"
   ]
  },
  {
   "cell_type": "code",
   "execution_count": 7,
   "id": "ea5b8cb2-1869-4a7a-b5e1-0279d5e92bff",
   "metadata": {},
   "outputs": [],
   "source": [
    "import pandas as pd"
   ]
  },
  {
   "cell_type": "code",
   "execution_count": 18,
   "id": "c6eb2211-93d1-430a-9458-01f194e80715",
   "metadata": {},
   "outputs": [
    {
     "data": {
      "text/html": [
       "<div>\n",
       "<style scoped>\n",
       "    .dataframe tbody tr th:only-of-type {\n",
       "        vertical-align: middle;\n",
       "    }\n",
       "\n",
       "    .dataframe tbody tr th {\n",
       "        vertical-align: top;\n",
       "    }\n",
       "\n",
       "    .dataframe thead th {\n",
       "        text-align: right;\n",
       "    }\n",
       "</style>\n",
       "<table border=\"1\" class=\"dataframe\">\n",
       "  <thead>\n",
       "    <tr style=\"text-align: right;\">\n",
       "      <th></th>\n",
       "      <th>x</th>\n",
       "      <th>y</th>\n",
       "      <th>z</th>\n",
       "      <th>label</th>\n",
       "    </tr>\n",
       "    <tr>\n",
       "      <th>id</th>\n",
       "      <th></th>\n",
       "      <th></th>\n",
       "      <th></th>\n",
       "      <th></th>\n",
       "    </tr>\n",
       "  </thead>\n",
       "  <tbody>\n",
       "    <tr>\n",
       "      <th>0</th>\n",
       "      <td>-0.306519</td>\n",
       "      <td>21.944332</td>\n",
       "      <td>-6.297458</td>\n",
       "      <td>0</td>\n",
       "    </tr>\n",
       "    <tr>\n",
       "      <th>1</th>\n",
       "      <td>9.776675</td>\n",
       "      <td>-22.687469</td>\n",
       "      <td>5.879963</td>\n",
       "      <td>1</td>\n",
       "    </tr>\n",
       "    <tr>\n",
       "      <th>2</th>\n",
       "      <td>-1.461972</td>\n",
       "      <td>-3.932512</td>\n",
       "      <td>-7.222929</td>\n",
       "      <td>2</td>\n",
       "    </tr>\n",
       "    <tr>\n",
       "      <th>3</th>\n",
       "      <td>-18.098791</td>\n",
       "      <td>2.847360</td>\n",
       "      <td>-1.750320</td>\n",
       "      <td>3</td>\n",
       "    </tr>\n",
       "    <tr>\n",
       "      <th>4</th>\n",
       "      <td>25.379896</td>\n",
       "      <td>-2.262954</td>\n",
       "      <td>-5.159170</td>\n",
       "      <td>4</td>\n",
       "    </tr>\n",
       "    <tr>\n",
       "      <th>...</th>\n",
       "      <td>...</td>\n",
       "      <td>...</td>\n",
       "      <td>...</td>\n",
       "      <td>...</td>\n",
       "    </tr>\n",
       "    <tr>\n",
       "      <th>1792</th>\n",
       "      <td>-19.014137</td>\n",
       "      <td>13.604458</td>\n",
       "      <td>-6.044274</td>\n",
       "      <td>9</td>\n",
       "    </tr>\n",
       "    <tr>\n",
       "      <th>1793</th>\n",
       "      <td>4.398367</td>\n",
       "      <td>19.226221</td>\n",
       "      <td>-6.896243</td>\n",
       "      <td>0</td>\n",
       "    </tr>\n",
       "    <tr>\n",
       "      <th>1794</th>\n",
       "      <td>-0.991898</td>\n",
       "      <td>-5.246236</td>\n",
       "      <td>-1.138711</td>\n",
       "      <td>8</td>\n",
       "    </tr>\n",
       "    <tr>\n",
       "      <th>1795</th>\n",
       "      <td>-17.202770</td>\n",
       "      <td>17.572273</td>\n",
       "      <td>-3.673666</td>\n",
       "      <td>9</td>\n",
       "    </tr>\n",
       "    <tr>\n",
       "      <th>1796</th>\n",
       "      <td>-4.395225</td>\n",
       "      <td>-3.411212</td>\n",
       "      <td>1.374999</td>\n",
       "      <td>8</td>\n",
       "    </tr>\n",
       "  </tbody>\n",
       "</table>\n",
       "<p>1797 rows × 4 columns</p>\n",
       "</div>"
      ],
      "text/plain": [
       "              x          y         z  label\n",
       "id                                         \n",
       "0     -0.306519  21.944332 -6.297458      0\n",
       "1      9.776675 -22.687469  5.879963      1\n",
       "2     -1.461972  -3.932512 -7.222929      2\n",
       "3    -18.098791   2.847360 -1.750320      3\n",
       "4     25.379896  -2.262954 -5.159170      4\n",
       "...         ...        ...       ...    ...\n",
       "1792 -19.014137  13.604458 -6.044274      9\n",
       "1793   4.398367  19.226221 -6.896243      0\n",
       "1794  -0.991898  -5.246236 -1.138711      8\n",
       "1795 -17.202770  17.572273 -3.673666      9\n",
       "1796  -4.395225  -3.411212  1.374999      8\n",
       "\n",
       "[1797 rows x 4 columns]"
      ]
     },
     "execution_count": 18,
     "metadata": {},
     "output_type": "execute_result"
    }
   ],
   "source": [
    "df = pd.DataFrame(data=tsne.embedding_, columns=['x', 'y', 'z']).rename_axis(index=\"id\")\n",
    "df['label'] = mnist.target\n",
    "df"
   ]
  },
  {
   "cell_type": "code",
   "execution_count": 19,
   "id": "07595839-47e7-4326-8c75-2b1cebc21bff",
   "metadata": {},
   "outputs": [],
   "source": [
    "from matplotlib import pyplot as plt"
   ]
  },
  {
   "cell_type": "code",
   "execution_count": 20,
   "id": "f79125b8-8c4e-4ad0-8574-0d2e2ef4e7e8",
   "metadata": {},
   "outputs": [],
   "source": [
    "data = mnist.data\n",
    "label = mnist.target\n",
    "\n",
    "root = \"mnist\"\n",
    "# os.mkdir(root)\n",
    "all_files = []\n",
    "\n",
    "for i in range(data.shape[0]):\n",
    "    img = data[i]\n",
    "    lab = str(label[i])\n",
    "    folder = os.path.join(root, lab)\n",
    "    # if not os.path.exists(folder): os.mkdir(folder)\n",
    "    file = os.path.join(folder, f\"{i}.png\")\n",
    "    # plt.imsave(file, data[i].reshape(8, 8).astype(np.int8), cmap=\"binary\")\n",
    "    all_files.append(file)"
   ]
  },
  {
   "cell_type": "code",
   "execution_count": 21,
   "id": "37166fd8-9747-484c-a97d-3515cafff470",
   "metadata": {},
   "outputs": [
    {
     "data": {
      "text/html": [
       "<div>\n",
       "<style scoped>\n",
       "    .dataframe tbody tr th:only-of-type {\n",
       "        vertical-align: middle;\n",
       "    }\n",
       "\n",
       "    .dataframe tbody tr th {\n",
       "        vertical-align: top;\n",
       "    }\n",
       "\n",
       "    .dataframe thead th {\n",
       "        text-align: right;\n",
       "    }\n",
       "</style>\n",
       "<table border=\"1\" class=\"dataframe\">\n",
       "  <thead>\n",
       "    <tr style=\"text-align: right;\">\n",
       "      <th></th>\n",
       "      <th>id</th>\n",
       "      <th>x</th>\n",
       "      <th>y</th>\n",
       "      <th>z</th>\n",
       "      <th>label</th>\n",
       "      <th>path</th>\n",
       "    </tr>\n",
       "  </thead>\n",
       "  <tbody>\n",
       "    <tr>\n",
       "      <th>0</th>\n",
       "      <td>0</td>\n",
       "      <td>-0.306519</td>\n",
       "      <td>21.944332</td>\n",
       "      <td>-6.297458</td>\n",
       "      <td>0</td>\n",
       "      <td>mnist/0/0.png</td>\n",
       "    </tr>\n",
       "    <tr>\n",
       "      <th>1</th>\n",
       "      <td>1</td>\n",
       "      <td>9.776675</td>\n",
       "      <td>-22.687469</td>\n",
       "      <td>5.879963</td>\n",
       "      <td>1</td>\n",
       "      <td>mnist/1/1.png</td>\n",
       "    </tr>\n",
       "    <tr>\n",
       "      <th>2</th>\n",
       "      <td>2</td>\n",
       "      <td>-1.461972</td>\n",
       "      <td>-3.932512</td>\n",
       "      <td>-7.222929</td>\n",
       "      <td>2</td>\n",
       "      <td>mnist/2/2.png</td>\n",
       "    </tr>\n",
       "    <tr>\n",
       "      <th>3</th>\n",
       "      <td>3</td>\n",
       "      <td>-18.098791</td>\n",
       "      <td>2.847360</td>\n",
       "      <td>-1.750320</td>\n",
       "      <td>3</td>\n",
       "      <td>mnist/3/3.png</td>\n",
       "    </tr>\n",
       "    <tr>\n",
       "      <th>4</th>\n",
       "      <td>4</td>\n",
       "      <td>25.379896</td>\n",
       "      <td>-2.262954</td>\n",
       "      <td>-5.159170</td>\n",
       "      <td>4</td>\n",
       "      <td>mnist/4/4.png</td>\n",
       "    </tr>\n",
       "    <tr>\n",
       "      <th>...</th>\n",
       "      <td>...</td>\n",
       "      <td>...</td>\n",
       "      <td>...</td>\n",
       "      <td>...</td>\n",
       "      <td>...</td>\n",
       "      <td>...</td>\n",
       "    </tr>\n",
       "    <tr>\n",
       "      <th>1792</th>\n",
       "      <td>1792</td>\n",
       "      <td>-19.014137</td>\n",
       "      <td>13.604458</td>\n",
       "      <td>-6.044274</td>\n",
       "      <td>9</td>\n",
       "      <td>mnist/9/1792.png</td>\n",
       "    </tr>\n",
       "    <tr>\n",
       "      <th>1793</th>\n",
       "      <td>1793</td>\n",
       "      <td>4.398367</td>\n",
       "      <td>19.226221</td>\n",
       "      <td>-6.896243</td>\n",
       "      <td>0</td>\n",
       "      <td>mnist/0/1793.png</td>\n",
       "    </tr>\n",
       "    <tr>\n",
       "      <th>1794</th>\n",
       "      <td>1794</td>\n",
       "      <td>-0.991898</td>\n",
       "      <td>-5.246236</td>\n",
       "      <td>-1.138711</td>\n",
       "      <td>8</td>\n",
       "      <td>mnist/8/1794.png</td>\n",
       "    </tr>\n",
       "    <tr>\n",
       "      <th>1795</th>\n",
       "      <td>1795</td>\n",
       "      <td>-17.202770</td>\n",
       "      <td>17.572273</td>\n",
       "      <td>-3.673666</td>\n",
       "      <td>9</td>\n",
       "      <td>mnist/9/1795.png</td>\n",
       "    </tr>\n",
       "    <tr>\n",
       "      <th>1796</th>\n",
       "      <td>1796</td>\n",
       "      <td>-4.395225</td>\n",
       "      <td>-3.411212</td>\n",
       "      <td>1.374999</td>\n",
       "      <td>8</td>\n",
       "      <td>mnist/8/1796.png</td>\n",
       "    </tr>\n",
       "  </tbody>\n",
       "</table>\n",
       "<p>1797 rows × 6 columns</p>\n",
       "</div>"
      ],
      "text/plain": [
       "        id          x          y         z  label              path\n",
       "0        0  -0.306519  21.944332 -6.297458      0     mnist/0/0.png\n",
       "1        1   9.776675 -22.687469  5.879963      1     mnist/1/1.png\n",
       "2        2  -1.461972  -3.932512 -7.222929      2     mnist/2/2.png\n",
       "3        3 -18.098791   2.847360 -1.750320      3     mnist/3/3.png\n",
       "4        4  25.379896  -2.262954 -5.159170      4     mnist/4/4.png\n",
       "...    ...        ...        ...       ...    ...               ...\n",
       "1792  1792 -19.014137  13.604458 -6.044274      9  mnist/9/1792.png\n",
       "1793  1793   4.398367  19.226221 -6.896243      0  mnist/0/1793.png\n",
       "1794  1794  -0.991898  -5.246236 -1.138711      8  mnist/8/1794.png\n",
       "1795  1795 -17.202770  17.572273 -3.673666      9  mnist/9/1795.png\n",
       "1796  1796  -4.395225  -3.411212  1.374999      8  mnist/8/1796.png\n",
       "\n",
       "[1797 rows x 6 columns]"
      ]
     },
     "execution_count": 21,
     "metadata": {},
     "output_type": "execute_result"
    }
   ],
   "source": [
    "all_new_files = [x.replace('\\\\', '/') for x in all_files]\n",
    "df['path'] = all_new_files\n",
    "df.reset_index(inplace=True)\n",
    "df"
   ]
  },
  {
   "cell_type": "code",
   "execution_count": 22,
   "id": "de99f2f7-1fef-42c5-a9b3-ebdfcbfca376",
   "metadata": {},
   "outputs": [],
   "source": [
    "df.to_json('mnist.js', orient='records')"
   ]
  },
  {
   "cell_type": "code",
   "execution_count": 54,
   "id": "90b7721c-4f92-483e-9132-471d30016233",
   "metadata": {},
   "outputs": [
    {
     "data": {
      "text/plain": [
       "1797"
      ]
     },
     "execution_count": 54,
     "metadata": {},
     "output_type": "execute_result"
    }
   ],
   "source": [
    "mat = df[[\"x\", \"y\", \"z\", \"label\"]].to_numpy().tolist()\n",
    "len(mat)"
   ]
  },
  {
   "cell_type": "code",
   "execution_count": 56,
   "id": "c927322f-9fa1-4c4b-9614-a78664d5d9b6",
   "metadata": {},
   "outputs": [],
   "source": [
    "data = \"data = \" + str(mat)\n",
    "\n",
    "with open(\"mnist.py\", \"w\") as f:\n",
    "    f.write(data)"
   ]
  },
  {
   "cell_type": "code",
   "execution_count": 24,
   "id": "c899d37a-6ddd-4ca0-842c-c5b493e81c38",
   "metadata": {},
   "outputs": [],
   "source": [
    "from sklearn.neighbors import KNeighborsClassifier"
   ]
  },
  {
   "cell_type": "code",
   "execution_count": 52,
   "id": "d012759f-519f-442b-b84e-91ed6653ebe7",
   "metadata": {},
   "outputs": [
    {
     "data": {
      "text/plain": [
       "(array([[ -2.06711221,  22.28537369,  -5.80214739],\n",
       "        [ 10.14194393, -22.5128231 ,   6.48842716],\n",
       "        [  5.11270094,  -4.01964188,  -4.15704441],\n",
       "        ...,\n",
       "        [  0.51632339,  -4.8585844 ,  -1.00399065],\n",
       "        [-14.49077511,  16.97520828,  -3.20830274],\n",
       "        [ -2.38979983,  -2.00377393,   0.80017871]]),\n",
       " array([0, 1, 2, ..., 8, 9, 8]))"
      ]
     },
     "execution_count": 52,
     "metadata": {},
     "output_type": "execute_result"
    }
   ],
   "source": [
    "mat = np.array(mat)\n",
    "data = mat[:, :3]\n",
    "label = mat[:, 3].astype(int)\n",
    "data, label"
   ]
  },
  {
   "cell_type": "code",
   "execution_count": 35,
   "id": "a7f4c718-bba2-4af1-8270-fff04b84bdbf",
   "metadata": {},
   "outputs": [
    {
     "data": {
      "text/html": [
       "<style>#sk-container-id-2 {color: black;background-color: white;}#sk-container-id-2 pre{padding: 0;}#sk-container-id-2 div.sk-toggleable {background-color: white;}#sk-container-id-2 label.sk-toggleable__label {cursor: pointer;display: block;width: 100%;margin-bottom: 0;padding: 0.3em;box-sizing: border-box;text-align: center;}#sk-container-id-2 label.sk-toggleable__label-arrow:before {content: \"▸\";float: left;margin-right: 0.25em;color: #696969;}#sk-container-id-2 label.sk-toggleable__label-arrow:hover:before {color: black;}#sk-container-id-2 div.sk-estimator:hover label.sk-toggleable__label-arrow:before {color: black;}#sk-container-id-2 div.sk-toggleable__content {max-height: 0;max-width: 0;overflow: hidden;text-align: left;background-color: #f0f8ff;}#sk-container-id-2 div.sk-toggleable__content pre {margin: 0.2em;color: black;border-radius: 0.25em;background-color: #f0f8ff;}#sk-container-id-2 input.sk-toggleable__control:checked~div.sk-toggleable__content {max-height: 200px;max-width: 100%;overflow: auto;}#sk-container-id-2 input.sk-toggleable__control:checked~label.sk-toggleable__label-arrow:before {content: \"▾\";}#sk-container-id-2 div.sk-estimator input.sk-toggleable__control:checked~label.sk-toggleable__label {background-color: #d4ebff;}#sk-container-id-2 div.sk-label input.sk-toggleable__control:checked~label.sk-toggleable__label {background-color: #d4ebff;}#sk-container-id-2 input.sk-hidden--visually {border: 0;clip: rect(1px 1px 1px 1px);clip: rect(1px, 1px, 1px, 1px);height: 1px;margin: -1px;overflow: hidden;padding: 0;position: absolute;width: 1px;}#sk-container-id-2 div.sk-estimator {font-family: monospace;background-color: #f0f8ff;border: 1px dotted black;border-radius: 0.25em;box-sizing: border-box;margin-bottom: 0.5em;}#sk-container-id-2 div.sk-estimator:hover {background-color: #d4ebff;}#sk-container-id-2 div.sk-parallel-item::after {content: \"\";width: 100%;border-bottom: 1px solid gray;flex-grow: 1;}#sk-container-id-2 div.sk-label:hover label.sk-toggleable__label {background-color: #d4ebff;}#sk-container-id-2 div.sk-serial::before {content: \"\";position: absolute;border-left: 1px solid gray;box-sizing: border-box;top: 0;bottom: 0;left: 50%;z-index: 0;}#sk-container-id-2 div.sk-serial {display: flex;flex-direction: column;align-items: center;background-color: white;padding-right: 0.2em;padding-left: 0.2em;position: relative;}#sk-container-id-2 div.sk-item {position: relative;z-index: 1;}#sk-container-id-2 div.sk-parallel {display: flex;align-items: stretch;justify-content: center;background-color: white;position: relative;}#sk-container-id-2 div.sk-item::before, #sk-container-id-2 div.sk-parallel-item::before {content: \"\";position: absolute;border-left: 1px solid gray;box-sizing: border-box;top: 0;bottom: 0;left: 50%;z-index: -1;}#sk-container-id-2 div.sk-parallel-item {display: flex;flex-direction: column;z-index: 1;position: relative;background-color: white;}#sk-container-id-2 div.sk-parallel-item:first-child::after {align-self: flex-end;width: 50%;}#sk-container-id-2 div.sk-parallel-item:last-child::after {align-self: flex-start;width: 50%;}#sk-container-id-2 div.sk-parallel-item:only-child::after {width: 0;}#sk-container-id-2 div.sk-dashed-wrapped {border: 1px dashed gray;margin: 0 0.4em 0.5em 0.4em;box-sizing: border-box;padding-bottom: 0.4em;background-color: white;}#sk-container-id-2 div.sk-label label {font-family: monospace;font-weight: bold;display: inline-block;line-height: 1.2em;}#sk-container-id-2 div.sk-label-container {text-align: center;}#sk-container-id-2 div.sk-container {/* jupyter's `normalize.less` sets `[hidden] { display: none; }` but bootstrap.min.css set `[hidden] { display: none !important; }` so we also need the `!important` here to be able to override the default hidden behavior on the sphinx rendered scikit-learn.org. See: https://github.com/scikit-learn/scikit-learn/issues/21755 */display: inline-block !important;position: relative;}#sk-container-id-2 div.sk-text-repr-fallback {display: none;}</style><div id=\"sk-container-id-2\" class=\"sk-top-container\"><div class=\"sk-text-repr-fallback\"><pre>KNeighborsClassifier()</pre><b>In a Jupyter environment, please rerun this cell to show the HTML representation or trust the notebook. <br />On GitHub, the HTML representation is unable to render, please try loading this page with nbviewer.org.</b></div><div class=\"sk-container\" hidden><div class=\"sk-item\"><div class=\"sk-estimator sk-toggleable\"><input class=\"sk-toggleable__control sk-hidden--visually\" id=\"sk-estimator-id-2\" type=\"checkbox\" checked><label for=\"sk-estimator-id-2\" class=\"sk-toggleable__label sk-toggleable__label-arrow\">KNeighborsClassifier</label><div class=\"sk-toggleable__content\"><pre>KNeighborsClassifier()</pre></div></div></div></div></div>"
      ],
      "text/plain": [
       "KNeighborsClassifier()"
      ]
     },
     "execution_count": 35,
     "metadata": {},
     "output_type": "execute_result"
    }
   ],
   "source": [
    "knn = KNeighborsClassifier(n_neighbors=5)\n",
    "knn.fit(data, label)"
   ]
  },
  {
   "cell_type": "code",
   "execution_count": 46,
   "id": "cd8dfecd-93fe-4bfd-a5c9-16012a1cfaa2",
   "metadata": {},
   "outputs": [
    {
     "data": {
      "text/plain": [
       "([0.7546715885640295, 1.721010348492222, 1.7460078713991956, 2.15181298742392],\n",
       " [249, 183, 248, 224])"
      ]
     },
     "execution_count": 46,
     "metadata": {},
     "output_type": "execute_result"
    }
   ],
   "source": [
    "x = 123\n",
    "\n",
    "loc = data[x].reshape(1, -1)\n",
    "dist, neigh = knn.kneighbors(loc)\n",
    "dist, neigh = dist[0, 1:].tolist(), neigh[0, 1:].tolist()\n",
    "dist, neigh"
   ]
  },
  {
   "cell_type": "code",
   "execution_count": null,
   "id": "2c001659-5039-4408-80db-2920ab4edb69",
   "metadata": {},
   "outputs": [],
   "source": []
  }
 ],
 "metadata": {
  "kernelspec": {
   "display_name": "Python 3 (ipykernel)",
   "language": "python",
   "name": "python3"
  },
  "language_info": {
   "codemirror_mode": {
    "name": "ipython",
    "version": 3
   },
   "file_extension": ".py",
   "mimetype": "text/x-python",
   "name": "python",
   "nbconvert_exporter": "python",
   "pygments_lexer": "ipython3",
   "version": "3.9.10"
  }
 },
 "nbformat": 4,
 "nbformat_minor": 5
}
